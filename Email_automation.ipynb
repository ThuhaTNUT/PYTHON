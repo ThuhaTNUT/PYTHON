{
 "cells": [
  {
   "cell_type": "code",
   "execution_count": 5,
   "id": "78496444",
   "metadata": {},
   "outputs": [
    {
     "name": "stdout",
     "output_type": "stream",
     "text": [
      "✅ Email đã được gửi thành công.\n",
      "\n",
      "📩 Tiêu đề: =?utf-8?b?RW1haWwgVOG7sSDEkOG7mW5nIHThu6sgVlNDb2Rl?=\n",
      "📨 Nội dung: Chào bạn,\n",
      "\n",
      "Tôi là Hứa Thị Thanh Hiền đây !\n",
      "\n",
      "Cảm ơn bạn đã đọc!\n",
      "\n",
      "Trân trọng\n",
      "[Hiền]\n"
     ]
    }
   ],
   "source": [
    "import smtplib\n",
    "import imaplib\n",
    "import email\n",
    "from email.mime.text import MIMEText\n",
    "\n",
    "# === BƯỚC 1: ĐỌC THÔNG TIN TÀI KHOẢN TỪ FILE ===\n",
    "with open('email_credentials.txt', 'r', encoding='utf-8') as file:\n",
    "    account_info = file.readlines()\n",
    "    sender_email = account_info[0].strip()\n",
    "    app_password = account_info[1].strip()\n",
    "\n",
    "# === BƯỚC 2: ĐỌC THÔNG TIN EMAIL VÀ TIÊU CHÍ LỌC ===\n",
    "with open('email_content.txt', 'r', encoding='utf-8') as file:\n",
    "    email_content = file.read()\n",
    "\n",
    "with open('recipient.txt', 'r', encoding='utf-8') as file:\n",
    "    recipient_email = file.read().strip()\n",
    "\n",
    "with open('email_filter.txt', 'r', encoding='utf-8') as file:\n",
    "    filter_sender = file.read().strip()\n",
    "\n",
    "# === BƯỚC 3: GỬI EMAIL ===\n",
    "try:\n",
    "    msg = MIMEText(email_content)\n",
    "    msg['Subject'] = 'Email Tu Dong'\n",
    "    msg['From'] = sender_email\n",
    "    msg['To'] = recipient_email\n",
    "\n",
    "    with smtplib.SMTP('smtp.gmail.com', 587) as smtp_server:\n",
    "        smtp_server.starttls()\n",
    "        smtp_server.login(sender_email, app_password)\n",
    "        smtp_server.send_message(msg)\n",
    "        print(\"✅ Email đã được gửi thành công.\")\n",
    "except Exception as e:\n",
    "    print(\"❌ Lỗi khi gửi email:\", e)\n",
    "\n",
    "# === BƯỚC 4: NHẬN EMAIL ===\n",
    "try:\n",
    "    with imaplib.IMAP4_SSL('imap.gmail.com') as imap_server:\n",
    "        imap_server.login(sender_email, app_password)\n",
    "        imap_server.select('INBOX')\n",
    "\n",
    "        # Tìm email từ người gửi cụ thể\n",
    "        result, data = imap_server.search(None, f'FROM \"{filter_sender}\"')\n",
    "        if result == 'OK' and data[0]:\n",
    "            for num in data[0].split():\n",
    "                result, msg_data = imap_server.fetch(num, '(RFC822)')\n",
    "                email_msg = email.message_from_bytes(msg_data[0][1])\n",
    "                print(\"\\n📩 Tiêu đề:\", email_msg[\"Subject\"])\n",
    "                if email_msg.is_multipart():\n",
    "                    for part in email_msg.walk():\n",
    "                        if part.get_content_type() == 'text/plain':\n",
    "                            print(\"📨 Nội dung:\", part.get_payload(decode=True).decode())\n",
    "                            break\n",
    "                else:\n",
    "                    print(\"📨 Nội dung:\", email_msg.get_payload(decode=True).decode())\n",
    "                break  # Chỉ lấy 1 email đầu tiên\n",
    "        else:\n",
    "            print(\"📭 Không tìm thấy email phù hợp.\")\n",
    "except Exception as e:\n",
    "    print(\"❌ Lỗi khi đọc email:\", e)\n"
   ]
  }
 ],
 "metadata": {
  "kernelspec": {
   "display_name": "MyEnv",
   "language": "python",
   "name": "python3"
  },
  "language_info": {
   "codemirror_mode": {
    "name": "ipython",
    "version": 3
   },
   "file_extension": ".py",
   "mimetype": "text/x-python",
   "name": "python",
   "nbconvert_exporter": "python",
   "pygments_lexer": "ipython3",
   "version": "3.12.9"
  }
 },
 "nbformat": 4,
 "nbformat_minor": 5
}
